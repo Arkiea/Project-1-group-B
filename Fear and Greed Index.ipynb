{
 "cells": [
  {
   "cell_type": "code",
   "execution_count": 5,
   "id": "4f23fe39-afbf-4a9d-bd8e-a16a5c2a46b1",
   "metadata": {},
   "outputs": [],
   "source": [
    "import fear_and_greed"
   ]
  },
  {
   "cell_type": "code",
   "execution_count": 6,
   "id": "520536a8-2e70-4f97-a14b-f6ec9bd9596e",
   "metadata": {},
   "outputs": [
    {
     "data": {
      "text/plain": [
       "FearGreedIndex(value=68, description='Greed', last_update=datetime.datetime(2022, 1, 4, 16, 58, tzinfo=<DstTzInfo 'US/Eastern' LMT-1 day, 19:04:00 STD>))"
      ]
     },
     "execution_count": 6,
     "metadata": {},
     "output_type": "execute_result"
    }
   ],
   "source": [
    "fear_and_greed.get()"
   ]
  },
  {
   "cell_type": "code",
   "execution_count": null,
   "id": "53b898bd-c685-43a4-aec0-1e96cd6d0769",
   "metadata": {},
   "outputs": [],
   "source": []
  },
  {
   "cell_type": "code",
   "execution_count": null,
   "id": "61ac74aa-6fac-414e-87f9-7068779d8ed5",
   "metadata": {},
   "outputs": [],
   "source": []
  }
 ],
 "metadata": {
  "kernelspec": {
   "display_name": "Python 3 (ipykernel)",
   "language": "python",
   "name": "python3"
  },
  "language_info": {
   "codemirror_mode": {
    "name": "ipython",
    "version": 3
   },
   "file_extension": ".py",
   "mimetype": "text/x-python",
   "name": "python",
   "nbconvert_exporter": "python",
   "pygments_lexer": "ipython3",
   "version": "3.8.8"
  }
 },
 "nbformat": 4,
 "nbformat_minor": 5
}
